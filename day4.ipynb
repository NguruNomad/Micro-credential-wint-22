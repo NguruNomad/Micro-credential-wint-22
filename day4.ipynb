{
  "nbformat": 4,
  "nbformat_minor": 0,
  "metadata": {
    "colab": {
      "name": "day4.ipynb",
      "provenance": [],
      "collapsed_sections": [],
      "authorship_tag": "ABX9TyMQ3561g++IUqOvr+zkJXDZ",
      "include_colab_link": true
    },
    "kernelspec": {
      "name": "python3",
      "display_name": "Python 3"
    },
    "language_info": {
      "name": "python"
    }
  },
  "cells": [
    {
      "cell_type": "markdown",
      "metadata": {
        "id": "view-in-github",
        "colab_type": "text"
      },
      "source": [
        "<a href=\"https://colab.research.google.com/github/NguruNomad/Micro-credential-wint-22/blob/main/day4.ipynb\" target=\"_parent\"><img src=\"https://colab.research.google.com/assets/colab-badge.svg\" alt=\"Open In Colab\"/></a>"
      ]
    },
    {
      "cell_type": "markdown",
      "source": [
        "#Functions\n",
        "So what is a function?\n",
        "\n",
        "Formally, a function is a useful device that groups together a set of statements so they can be run more than once. They can also let us specify parameters that can serve as inputs to the functions.\n",
        "\n",
        "On a more fundamental level, functions allow us to not have to repeatedly write the same code again and again. If you remember back to the lessons on strings and lists, remember that we used a function len() to get the length of a string. Since checking the length of a sequence is a common task you would want to write a function that can do this repeatedly at command.\n",
        "\n",
        "Functions will be one of most basic levels of reusing code in Python, and it will also allow us to start thinking of program design (we will dive much deeper into the ideas of design when we learn about Object Oriented Programming)."
      ],
      "metadata": {
        "id": "BUfJfEdevnnI"
      }
    },
    {
      "cell_type": "markdown",
      "source": [
        "#def Statements \n",
        "Let's see how to build out a function's syntax in Python. It has the following form:"
      ],
      "metadata": {
        "id": "AfPOpsaYzbQP"
      }
    },
    {
      "cell_type": "code",
      "source": [
        "def name_of_function(arg1,arg2):\n",
        "    '''\n",
        "    This is where the function's Document String (doc-string) goes\n",
        "    '''\n",
        "    # Do stuff here\n",
        "    #return desired result"
      ],
      "metadata": {
        "id": "vqyLEhLczfu-"
      },
      "execution_count": 4,
      "outputs": []
    },
    {
      "cell_type": "code",
      "source": [
        "def greeting():\n",
        "  '''\n",
        "  Author: writer of the funtion.\n",
        "  Input: what argument the func takes.\n",
        "  Output: what is intended to display.\n",
        "  '''\n",
        "  print('Hello there!')\n",
        "\n",
        "greeting()"
      ],
      "metadata": {
        "colab": {
          "base_uri": "https://localhost:8080/"
        },
        "id": "unsH_C9czf49",
        "outputId": "d8ce1d96-c2e0-48e3-ed39-867fba83a0ac"
      },
      "execution_count": 18,
      "outputs": [
        {
          "output_type": "stream",
          "name": "stdout",
          "text": [
            "Hello there!\n"
          ]
        }
      ]
    },
    {
      "cell_type": "code",
      "source": [
        "def jarvis():\n",
        "  '''\n",
        "  Author: N.H.\n",
        "  Input: none\n",
        "  Output: greeting\n",
        "  '''\n",
        "  print('Hello, sir.')\n",
        "\n",
        "jarvis()"
      ],
      "metadata": {
        "colab": {
          "base_uri": "https://localhost:8080/"
        },
        "id": "AlGOCP7SzgIo",
        "outputId": "365345eb-5260-424b-8ea8-284ccbe911b9"
      },
      "execution_count": 21,
      "outputs": [
        {
          "output_type": "stream",
          "name": "stdout",
          "text": [
            "Hello, sir.\n"
          ]
        }
      ]
    },
    {
      "cell_type": "code",
      "source": [
        "def minus(x,y):\n",
        "  return x-y\n",
        "\n",
        "x = int(input())\n",
        "y = int(input())\n",
        "\n",
        "print(minus (x,y))"
      ],
      "metadata": {
        "colab": {
          "base_uri": "https://localhost:8080/"
        },
        "id": "ox1p6Kn1zgRO",
        "outputId": "02a4a53f-5a5c-47c1-f50d-b94766cec120"
      },
      "execution_count": 61,
      "outputs": [
        {
          "output_type": "stream",
          "name": "stdout",
          "text": [
            "1\n",
            "3\n",
            "-2\n"
          ]
        }
      ]
    },
    {
      "cell_type": "code",
      "source": [
        "#Write an elementary calculator\n",
        "'''\n",
        "Author: N.H.\n",
        "Input: Two numbers (whole numbers)\n",
        "Output: Desired operation\n",
        "'''\n",
        "def add(a,b):\n",
        "  return a+b\n",
        "def times(a,b):\n",
        "  return a*b\n",
        "def divide(a,b):\n",
        "  return a/b\n",
        "def minus(a,b):\n",
        "  return a-b\n",
        "#User selects operand.\n",
        "operand = input(\"Enter operation: \")\n",
        "#Once selected, two integer inputs are calculated and the operand is performed.\n",
        "if operand in ('+', '*', '/', '-'):\n",
        "  a = int(input())\n",
        "  b = int(input())\n",
        "  if operand == '+':\n",
        "    print('= ', add(a,b))\n",
        "  elif operand == '*':\n",
        "    print('= ', times(a,b))\n",
        "  elif operand == '/':\n",
        "    print('= ', divide(a,b))\n",
        "  elif operand == '-':\n",
        "    print('= ', minus(a,b))\n"
      ],
      "metadata": {
        "colab": {
          "base_uri": "https://localhost:8080/"
        },
        "id": "JQymW6E8zgYe",
        "outputId": "60978da1-2534-4b16-8a75-9aec6d27bb27"
      },
      "execution_count": 69,
      "outputs": [
        {
          "output_type": "stream",
          "name": "stdout",
          "text": [
            "Enter operation: -\n",
            "9\n",
            "8\n",
            "=  1\n"
          ]
        }
      ]
    },
    {
      "cell_type": "code",
      "source": [
        "# Group Calculator\n",
        "\n",
        "import math\n",
        "#Function to add two numbers \n",
        "def add(num1, num2):\n",
        "\tabc = num1 + num2\n",
        "\treturn abc\n",
        "#Function to subtract two numbers \n",
        "def subtract(num1, num2):\n",
        "\tans = num1 - num2\n",
        "\treturn ans\n",
        "#Function to multiply two numbers\n",
        "def multiply(num1, num2):\n",
        "\tgcf = num1 * num2\n",
        "\treturn gcf\n",
        "#Function to divide two numbers\n",
        "def divide(num1, num2):\n",
        "\tghi = num1//num2\n",
        "\treturn ghi\n",
        "#Function to get the square root of the number\n",
        "def sqrt(num1):\n",
        "\tjkl = math.sqrt(num1)\n",
        "\treturn jkl\n",
        "# Function to square a number\n",
        "def squared(num1):\n",
        "\tans = num1 ** 2\n",
        "\treturn ans\n",
        "#Function to get a number to the exponent of another number\n",
        "def exponent(num1, num2):\n",
        "\tans = math.pow(num1, num2)\n",
        "\treturn ans\n",
        "\n",
        "\n",
        "  \n",
        "def main():\n",
        "   \"\"\"Asks the user for a number to select an operation and prompts them to\n",
        "      to put in two numbers to do the calculation.\n",
        "      Do not change the main function !\n",
        "   \"\"\"\n",
        "   print(\"Please select operation -\\n\" \\\n",
        "         \"1. Add\\n\" \\\n",
        "         \"2. Subtract\\n\" \\\n",
        "         \"3. Multiply\\n\" \\\n",
        "         \"4. Divide\\n\" \\\n",
        "         \"5. Square root\\n\" \\\n",
        "         \"6. Squared\\n\" \\\n",
        "         \"7. Exponent\\n\")\n",
        "   # Take input from the user \n",
        "   select = int(input(\"Select operations from: 1, 2, 3, 4, 5, 6, 7 : \"))\n",
        "   number_1 = int(input(\"Enter first number: \"))\n",
        "   number_2 = int(input(\"Enter second number: \"))\n",
        "   if select == 1:\n",
        "       print(number_1, \"+\", number_2, \"=\",\n",
        "                       add(number_1, number_2))\n",
        "   elif select == 2:\n",
        "       print(number_1, \"-\", number_2, \"=\",\n",
        "                       subtract(number_1, number_2))\n",
        "   elif select == 3:\n",
        "       print(number_1, \"*\", number_2, \"=\",\n",
        "                       multiply(number_1, number_2))\n",
        "   elif select == 4:\n",
        "       print(number_1, \"/\", number_2, \"=\",\n",
        "                       divide(number_1, number_2))\n",
        "  \n",
        "   else:\n",
        "       print(\"Invalid input\")\n",
        "if __name__ == \"__main__\":\n",
        "   main()"
      ],
      "metadata": {
        "colab": {
          "base_uri": "https://localhost:8080/"
        },
        "id": "6sbqx2DWzgux",
        "outputId": "ff09a5bb-ca26-494c-86ba-8f382e5e706d"
      },
      "execution_count": 67,
      "outputs": [
        {
          "output_type": "stream",
          "name": "stdout",
          "text": [
            "Please select operation -\n",
            "1. Add\n",
            "2. Subtract\n",
            "3. Multiply\n",
            "4. Divide\n",
            "5. Square root\n",
            "6. Squared\n",
            "7. Exponent\n",
            "\n",
            "Select operations from: 1, 2, 3, 4, 5, 6, 7 : 7\n",
            "Enter first number: 1\n",
            "Enter second number: 2\n",
            "Invalid input\n"
          ]
        }
      ]
    },
    {
      "cell_type": "code",
      "source": [
        ""
      ],
      "metadata": {
        "id": "FjRHtOamWDGL"
      },
      "execution_count": null,
      "outputs": []
    }
  ]
}