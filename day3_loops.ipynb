{
  "nbformat": 4,
  "nbformat_minor": 0,
  "metadata": {
    "colab": {
      "name": "day3-loops.ipynb",
      "provenance": [],
      "collapsed_sections": [],
      "authorship_tag": "ABX9TyNxBiBez/7xGlMM+p933hLf",
      "include_colab_link": true
    },
    "kernelspec": {
      "name": "python3",
      "display_name": "Python 3"
    },
    "language_info": {
      "name": "python"
    }
  },
  "cells": [
    {
      "cell_type": "markdown",
      "metadata": {
        "id": "view-in-github",
        "colab_type": "text"
      },
      "source": [
        "<a href=\"https://colab.research.google.com/github/NguruNomad/Micro-credential-wint-22/blob/main/day3_loops.ipynb\" target=\"_parent\"><img src=\"https://colab.research.google.com/assets/colab-badge.svg\" alt=\"Open In Colab\"/></a>"
      ]
    },
    {
      "cell_type": "markdown",
      "source": [
        "#For loops"
      ],
      "metadata": {
        "id": "837xtqRN7AZN"
      }
    },
    {
      "cell_type": "code",
      "source": [
        "for x in 'cuny' :\n",
        "  print(x)"
      ],
      "metadata": {
        "colab": {
          "base_uri": "https://localhost:8080/"
        },
        "id": "i8lzJMMJ7JEQ",
        "outputId": "1d481436-5f4e-4e2f-91f2-a4ebc8ef4a14"
      },
      "execution_count": 1,
      "outputs": [
        {
          "output_type": "stream",
          "name": "stdout",
          "text": [
            "c\n",
            "u\n",
            "n\n",
            "y\n"
          ]
        }
      ]
    },
    {
      "cell_type": "code",
      "source": [
        "TVshows = ['star trek', 'game of thrones', 'stranger things']\n",
        "for shows in TVshows :\n",
        "  print(shows)"
      ],
      "metadata": {
        "colab": {
          "base_uri": "https://localhost:8080/"
        },
        "id": "OGybB0XN7uae",
        "outputId": "51acd4d4-1083-4603-fa06-4fb0ed6314d9"
      },
      "execution_count": 2,
      "outputs": [
        {
          "output_type": "stream",
          "name": "stdout",
          "text": [
            "star trek\n",
            "game of thrones\n",
            "stranger things\n"
          ]
        }
      ]
    },
    {
      "cell_type": "code",
      "source": [
        "TVshows = ['star trek', 'game of thrones', 'stranger things']\n",
        "for shows in TVshows :\n",
        "  print(shows.title()+ ', is my favorite show!')"
      ],
      "metadata": {
        "colab": {
          "base_uri": "https://localhost:8080/"
        },
        "id": "HdTbIFLF8muM",
        "outputId": "285fe27c-266e-4e31-8d7f-c20b3a789559"
      },
      "execution_count": 3,
      "outputs": [
        {
          "output_type": "stream",
          "name": "stdout",
          "text": [
            "Star Trek, is my favorite show!\n",
            "Game Of Thrones, is my favorite show!\n",
            "Stranger Things, is my favorite show!\n"
          ]
        }
      ]
    },
    {
      "cell_type": "code",
      "source": [
        "NEWshows = []"
      ],
      "metadata": {
        "id": "uNrN4_gz-8f0"
      },
      "execution_count": 4,
      "outputs": []
    },
    {
      "cell_type": "code",
      "source": [
        "NEWshows.append('Life')"
      ],
      "metadata": {
        "id": "TudDVq6hArJA"
      },
      "execution_count": 5,
      "outputs": []
    },
    {
      "cell_type": "code",
      "source": [
        "NEWshows"
      ],
      "metadata": {
        "colab": {
          "base_uri": "https://localhost:8080/"
        },
        "id": "BOHuOiQQASig",
        "outputId": "93533a08-92eb-4dca-c204-f5c4b27cfe97"
      },
      "execution_count": 6,
      "outputs": [
        {
          "output_type": "execute_result",
          "data": {
            "text/plain": [
              "['Life']"
            ]
          },
          "metadata": {},
          "execution_count": 6
        }
      ]
    },
    {
      "cell_type": "code",
      "source": [
        "for x in range(10):\n",
        "  print(x+2)"
      ],
      "metadata": {
        "colab": {
          "base_uri": "https://localhost:8080/"
        },
        "id": "m2uGTtPbCG5V",
        "outputId": "36416f46-b1fe-47fd-c613-822fb2b14ed6"
      },
      "execution_count": 7,
      "outputs": [
        {
          "output_type": "stream",
          "name": "stdout",
          "text": [
            "2\n",
            "3\n",
            "4\n",
            "5\n",
            "6\n",
            "7\n",
            "8\n",
            "9\n",
            "10\n",
            "11\n"
          ]
        }
      ]
    },
    {
      "cell_type": "code",
      "source": [
        "list(range(1,20))"
      ],
      "metadata": {
        "colab": {
          "base_uri": "https://localhost:8080/"
        },
        "id": "ehCkV3bnCgmp",
        "outputId": "9dc7826d-4c12-4792-a6d7-68f900b5081b"
      },
      "execution_count": 8,
      "outputs": [
        {
          "output_type": "execute_result",
          "data": {
            "text/plain": [
              "[1, 2, 3, 4, 5, 6, 7, 8, 9, 10, 11, 12, 13, 14, 15, 16, 17, 18, 19]"
            ]
          },
          "metadata": {},
          "execution_count": 8
        }
      ]
    },
    {
      "cell_type": "code",
      "source": [
        "list(range(0,20,2))"
      ],
      "metadata": {
        "colab": {
          "base_uri": "https://localhost:8080/"
        },
        "id": "nlu6-2xUDTG9",
        "outputId": "83ae3b21-ce7f-447e-f00e-d752db134705"
      },
      "execution_count": 9,
      "outputs": [
        {
          "output_type": "execute_result",
          "data": {
            "text/plain": [
              "[0, 2, 4, 6, 8, 10, 12, 14, 16, 18]"
            ]
          },
          "metadata": {},
          "execution_count": 9
        }
      ]
    },
    {
      "cell_type": "code",
      "source": [
        "numbers = list(range(3,15,2))\n",
        "print(numbers)"
      ],
      "metadata": {
        "colab": {
          "base_uri": "https://localhost:8080/"
        },
        "id": "rYLwmc_JDXT-",
        "outputId": "f74c2241-4116-4aed-d025-e0180593c104"
      },
      "execution_count": 10,
      "outputs": [
        {
          "output_type": "stream",
          "name": "stdout",
          "text": [
            "[3, 5, 7, 9, 11, 13]\n"
          ]
        }
      ]
    },
    {
      "cell_type": "code",
      "source": [
        "min(numbers)"
      ],
      "metadata": {
        "colab": {
          "base_uri": "https://localhost:8080/"
        },
        "id": "buRhXUBWD4U9",
        "outputId": "2b33166d-15b6-4545-9cd4-756b51b085c9"
      },
      "execution_count": 11,
      "outputs": [
        {
          "output_type": "execute_result",
          "data": {
            "text/plain": [
              "3"
            ]
          },
          "metadata": {},
          "execution_count": 11
        }
      ]
    },
    {
      "cell_type": "code",
      "source": [
        "sum(numbers)"
      ],
      "metadata": {
        "colab": {
          "base_uri": "https://localhost:8080/"
        },
        "id": "m2qw5vY4EHBw",
        "outputId": "343a21ac-4072-4917-c86b-804e77477417"
      },
      "execution_count": 12,
      "outputs": [
        {
          "output_type": "execute_result",
          "data": {
            "text/plain": [
              "48"
            ]
          },
          "metadata": {},
          "execution_count": 12
        }
      ]
    },
    {
      "cell_type": "code",
      "source": [
        "max(numbers)"
      ],
      "metadata": {
        "colab": {
          "base_uri": "https://localhost:8080/"
        },
        "id": "e3JxHsveEJhv",
        "outputId": "896746ad-a1f6-4d01-a053-186401d3be6f"
      },
      "execution_count": 13,
      "outputs": [
        {
          "output_type": "execute_result",
          "data": {
            "text/plain": [
              "13"
            ]
          },
          "metadata": {},
          "execution_count": 13
        }
      ]
    },
    {
      "cell_type": "code",
      "source": [
        "rand = [3,4,9,10,11,12,13,22,23]"
      ],
      "metadata": {
        "id": "_uoEWt2JEL8Y"
      },
      "execution_count": 14,
      "outputs": []
    },
    {
      "cell_type": "code",
      "source": [
        "for numbers in rand:\n",
        "  print(numbers)"
      ],
      "metadata": {
        "colab": {
          "base_uri": "https://localhost:8080/"
        },
        "id": "9VIkUzm3E4qH",
        "outputId": "8a656a8b-1c72-4c18-ea0e-533cef8308f6"
      },
      "execution_count": 15,
      "outputs": [
        {
          "output_type": "stream",
          "name": "stdout",
          "text": [
            "3\n",
            "4\n",
            "9\n",
            "10\n",
            "11\n",
            "12\n",
            "13\n",
            "22\n",
            "23\n"
          ]
        }
      ]
    },
    {
      "cell_type": "code",
      "source": [
        "# finds the remainder of the number preceeding the %.\n",
        "25%3"
      ],
      "metadata": {
        "colab": {
          "base_uri": "https://localhost:8080/"
        },
        "id": "rqZ4oaNaFGzu",
        "outputId": "d1ab3f0e-72e5-4a8b-d727-03f22423eab8"
      },
      "execution_count": 16,
      "outputs": [
        {
          "output_type": "execute_result",
          "data": {
            "text/plain": [
              "1"
            ]
          },
          "metadata": {},
          "execution_count": 16
        }
      ]
    },
    {
      "cell_type": "code",
      "source": [
        "\n",
        "for x in rand:\n",
        "  if x % 2 == 0:\n",
        "    print(x)\n",
        "  else:\n",
        "    print(x, 'This is an odd number.')"
      ],
      "metadata": {
        "colab": {
          "base_uri": "https://localhost:8080/"
        },
        "id": "Y4gv6aaGFVXN",
        "outputId": "483d00a6-34db-4ee2-e91c-415415d0419d"
      },
      "execution_count": 17,
      "outputs": [
        {
          "output_type": "stream",
          "name": "stdout",
          "text": [
            "3 This is an odd number.\n",
            "4\n",
            "9 This is an odd number.\n",
            "10\n",
            "11 This is an odd number.\n",
            "12\n",
            "13 This is an odd number.\n",
            "22\n",
            "23 This is an odd number.\n"
          ]
        }
      ]
    },
    {
      "cell_type": "code",
      "source": [
        "l2 = [12, 45, 6, 3, 45, 678, 2, 45657]"
      ],
      "metadata": {
        "id": "RTy9DQrbHAHy"
      },
      "execution_count": 18,
      "outputs": []
    },
    {
      "cell_type": "code",
      "source": [
        "listSum = 0\n",
        "\n",
        "for num in l2:\n",
        "  listSum = listSum + num\n",
        "\n",
        "print(listSum)"
      ],
      "metadata": {
        "colab": {
          "base_uri": "https://localhost:8080/"
        },
        "id": "bSjgoP2VFmMv",
        "outputId": "8e58c4fd-48f5-459d-f8d3-7ee29a3176e1"
      },
      "execution_count": 19,
      "outputs": [
        {
          "output_type": "stream",
          "name": "stdout",
          "text": [
            "46448\n"
          ]
        }
      ]
    },
    {
      "cell_type": "code",
      "source": [
        "dy = {'k1': 1, 'k2': 2, 'k3': 3, 'k4':4}"
      ],
      "metadata": {
        "id": "6Hu3R7hUHB6h"
      },
      "execution_count": 20,
      "outputs": []
    },
    {
      "cell_type": "code",
      "source": [
        "for item in dy:\n",
        "  print(item)"
      ],
      "metadata": {
        "colab": {
          "base_uri": "https://localhost:8080/"
        },
        "id": "Opqd2F1UHsTY",
        "outputId": "47d1a49d-4bd1-4ba8-f98f-5cf92db427be"
      },
      "execution_count": 21,
      "outputs": [
        {
          "output_type": "stream",
          "name": "stdout",
          "text": [
            "k1\n",
            "k2\n",
            "k3\n",
            "k4\n"
          ]
        }
      ]
    },
    {
      "cell_type": "code",
      "source": [
        "for a,b in dy.items():\n",
        "  print(a)\n",
        "  print(b)"
      ],
      "metadata": {
        "colab": {
          "base_uri": "https://localhost:8080/"
        },
        "id": "Mwn1b8-gHvib",
        "outputId": "3672352e-7488-49a7-fa2d-3de0d2b50c97"
      },
      "execution_count": 22,
      "outputs": [
        {
          "output_type": "stream",
          "name": "stdout",
          "text": [
            "k1\n",
            "1\n",
            "k2\n",
            "2\n",
            "k3\n",
            "3\n",
            "k4\n",
            "4\n"
          ]
        }
      ]
    },
    {
      "cell_type": "markdown",
      "source": [
        "# While loops"
      ],
      "metadata": {
        "id": "WRF8O8OIHzPN"
      }
    },
    {
      "cell_type": "code",
      "source": [
        "patient = {\n",
        "    'name' : 'steve',\n",
        "    'surname' : 'timms',\n",
        "    'mrn' : '5000873928329',\n",
        "    'dob' : '01011930'\n",
        "    }"
      ],
      "metadata": {
        "id": "0T9rkOwoJD3o"
      },
      "execution_count": 33,
      "outputs": []
    },
    {
      "cell_type": "code",
      "source": [
        "for x, y in patient.items():\n",
        "   print('\\n' + x.upper())\n",
        "   print('\\n' + y.title())"
      ],
      "metadata": {
        "colab": {
          "base_uri": "https://localhost:8080/"
        },
        "id": "rWo1lxv7NHR7",
        "outputId": "a621f1ca-4c32-48ee-8669-0f9be8003198"
      },
      "execution_count": 35,
      "outputs": [
        {
          "output_type": "stream",
          "name": "stdout",
          "text": [
            "\n",
            "NAME\n",
            "\n",
            "Steve\n",
            "\n",
            "SURNAME\n",
            "\n",
            "Timms\n",
            "\n",
            "MRN\n",
            "\n",
            "5000873928329\n",
            "\n",
            "DOB\n",
            "\n",
            "01011930\n"
          ]
        }
      ]
    },
    {
      "cell_type": "code",
      "source": [
        "friends_ages= {\n",
        "    'nick' : '30',\n",
        "    'amanda' : '34',\n",
        "    'john' : '36',\n",
        "    'haley' : '26'\n",
        "}"
      ],
      "metadata": {
        "id": "HRDu_rbxKJm5"
      },
      "execution_count": 29,
      "outputs": []
    },
    {
      "cell_type": "code",
      "source": [
        "bestfriends = ['nick', 'amanda']\n",
        "for name in friends_ages.keys():\n",
        "  print(name.title())\n",
        "\n",
        "  if name in bestfriends:\n",
        "    print('Hi ' + name.title() + ', I see you\\'re ' + friends_ages[name])"
      ],
      "metadata": {
        "colab": {
          "base_uri": "https://localhost:8080/"
        },
        "id": "_ZlqqeiaLU6r",
        "outputId": "f0c43052-eddb-4440-8117-1c35ff69d781"
      },
      "execution_count": 36,
      "outputs": [
        {
          "output_type": "stream",
          "name": "stdout",
          "text": [
            "Nick\n",
            "Hi Nick, I see you're 30\n",
            "Amanda\n",
            "Hi Amanda, I see you're 34\n",
            "John\n",
            "Haley\n"
          ]
        }
      ]
    },
    {
      "cell_type": "code",
      "source": [
        "num = 1 \n",
        "while num <= 5:\n",
        "  print(num)\n",
        "  num += 2"
      ],
      "metadata": {
        "colab": {
          "base_uri": "https://localhost:8080/"
        },
        "id": "tslYI_beTyE2",
        "outputId": "74da2b54-ef39-41af-9011-b1432509886d"
      },
      "execution_count": 41,
      "outputs": [
        {
          "output_type": "stream",
          "name": "stdout",
          "text": [
            "1\n",
            "3\n",
            "5\n"
          ]
        }
      ]
    },
    {
      "cell_type": "code",
      "source": [
        "name = input('Enter first name: ')"
      ],
      "metadata": {
        "colab": {
          "base_uri": "https://localhost:8080/"
        },
        "id": "akrzzGnnT_sZ",
        "outputId": "af8675ea-5d8f-4a06-f850-64f17ffe7408"
      },
      "execution_count": 50,
      "outputs": [
        {
          "name": "stdout",
          "output_type": "stream",
          "text": [
            "Enter first name: Cass\n"
          ]
        }
      ]
    },
    {
      "cell_type": "code",
      "source": [
        "name"
      ],
      "metadata": {
        "colab": {
          "base_uri": "https://localhost:8080/",
          "height": 37
        },
        "id": "uLR7j7blVP5x",
        "outputId": "0a3b067d-e7d6-44b8-82a8-f86bf4626e39"
      },
      "execution_count": 51,
      "outputs": [
        {
          "output_type": "execute_result",
          "data": {
            "application/vnd.google.colaboratory.intrinsic+json": {
              "type": "string"
            },
            "text/plain": [
              "'Cass'"
            ]
          },
          "metadata": {},
          "execution_count": 51
        }
      ]
    },
    {
      "cell_type": "code",
      "source": [
        "age = int(input('Enter age: '))"
      ],
      "metadata": {
        "colab": {
          "base_uri": "https://localhost:8080/"
        },
        "id": "M3h6qOQNVUQv",
        "outputId": "9e0dcda9-ebd2-4037-e913-0c36288370fd"
      },
      "execution_count": 44,
      "outputs": [
        {
          "name": "stdout",
          "output_type": "stream",
          "text": [
            "Enter age: 63\n"
          ]
        }
      ]
    },
    {
      "cell_type": "code",
      "source": [
        "age"
      ],
      "metadata": {
        "colab": {
          "base_uri": "https://localhost:8080/"
        },
        "id": "9iFSm6hqVgyJ",
        "outputId": "8bdf2b7b-dde7-4f9b-b1b1-21856b6eed62"
      },
      "execution_count": 45,
      "outputs": [
        {
          "output_type": "execute_result",
          "data": {
            "text/plain": [
              "63"
            ]
          },
          "metadata": {},
          "execution_count": 45
        }
      ]
    },
    {
      "cell_type": "code",
      "source": [
        "prompt = 'Input message... I will repreat until you type quit...: '\n",
        "message = ''\n",
        "\n",
        "while message != 'quit':\n",
        "  message = input(prompt)\n",
        "  print(message)"
      ],
      "metadata": {
        "colab": {
          "base_uri": "https://localhost:8080/"
        },
        "id": "z1hyKK7DVnsn",
        "outputId": "21cb35e5-6dac-4d8b-ef7b-9a6d6db7330a"
      },
      "execution_count": 52,
      "outputs": [
        {
          "output_type": "stream",
          "name": "stdout",
          "text": [
            "Input message... I will repreat until you type quit...: ok\n",
            "ok\n",
            "Input message... I will repreat until you type quit...: stop\n",
            "stop\n",
            "Input message... I will repreat until you type quit...: enough\n",
            "enough\n",
            "Input message... I will repreat until you type quit...: ugh... quit\n",
            "ugh... quit\n",
            "Input message... I will repreat until you type quit...: I said quit\n",
            "I said quit\n",
            "Input message... I will repreat until you type quit...: QUIT\n",
            "QUIT\n",
            "Input message... I will repreat until you type quit...: please quit it\n",
            "please quit it\n",
            "Input message... I will repreat until you type quit...: quit\n",
            "quit\n"
          ]
        }
      ]
    },
    {
      "cell_type": "code",
      "source": [
        "prompt = 'Input message... I will repreat until you type quit...: '\n",
        "message = ''\n",
        "\n",
        "active = True \n",
        "while active:\n",
        "  message = input(prompt)\n",
        "\n",
        "  if message == 'quit':\n",
        "    active = False\n",
        "  else:\n",
        "    print(message)"
      ],
      "metadata": {
        "colab": {
          "base_uri": "https://localhost:8080/"
        },
        "id": "-VsH9yMQWT0j",
        "outputId": "79cf720b-1ef5-4f4b-9717-8347117f2481"
      },
      "execution_count": 61,
      "outputs": [
        {
          "name": "stdout",
          "output_type": "stream",
          "text": [
            "Input message... I will repreat until you type quit...: hello world\n",
            "hello world\n",
            "Input message... I will repreat until you type quit...: quit\n"
          ]
        }
      ]
    },
    {
      "cell_type": "code",
      "source": [
        ""
      ],
      "metadata": {
        "id": "viVYONuQXMWs"
      },
      "execution_count": null,
      "outputs": []
    }
  ]
}