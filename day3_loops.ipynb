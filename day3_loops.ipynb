{
  "nbformat": 4,
  "nbformat_minor": 0,
  "metadata": {
    "colab": {
      "name": "day3-loops.ipynb",
      "provenance": [],
      "collapsed_sections": [],
      "authorship_tag": "ABX9TyPr82wBjzTGoeDEsSF8Gvdf",
      "include_colab_link": true
    },
    "kernelspec": {
      "name": "python3",
      "display_name": "Python 3"
    },
    "language_info": {
      "name": "python"
    }
  },
  "cells": [
    {
      "cell_type": "markdown",
      "metadata": {
        "id": "view-in-github",
        "colab_type": "text"
      },
      "source": [
        "<a href=\"https://colab.research.google.com/github/NguruNomad/Micro-credential-wint-22/blob/main/day3_loops.ipynb\" target=\"_parent\"><img src=\"https://colab.research.google.com/assets/colab-badge.svg\" alt=\"Open In Colab\"/></a>"
      ]
    },
    {
      "cell_type": "markdown",
      "source": [
        "#For loops"
      ],
      "metadata": {
        "id": "837xtqRN7AZN"
      }
    },
    {
      "cell_type": "code",
      "source": [
        "for x in 'cuny' :\n",
        "  print(x)"
      ],
      "metadata": {
        "colab": {
          "base_uri": "https://localhost:8080/"
        },
        "id": "i8lzJMMJ7JEQ",
        "outputId": "56857e90-365a-4a84-e0d1-f83cc08f05c8"
      },
      "execution_count": 1,
      "outputs": [
        {
          "output_type": "stream",
          "name": "stdout",
          "text": [
            "c\n",
            "u\n",
            "n\n",
            "y\n"
          ]
        }
      ]
    },
    {
      "cell_type": "code",
      "source": [
        "TVshows = ['star trek', 'game of thrones', 'stranger things']\n",
        "for shows in TVshows :\n",
        "  print(shows)"
      ],
      "metadata": {
        "colab": {
          "base_uri": "https://localhost:8080/"
        },
        "id": "OGybB0XN7uae",
        "outputId": "a3390885-bf56-4301-c88a-5a72021e7e8e"
      },
      "execution_count": 4,
      "outputs": [
        {
          "output_type": "stream",
          "name": "stdout",
          "text": [
            "Star Trek\n",
            "Game of Thrones\n",
            "Stranger Things\n"
          ]
        }
      ]
    },
    {
      "cell_type": "code",
      "source": [
        "TVshows = ['star trek', 'game of thrones', 'stranger things']\n",
        "for shows in TVshows :\n",
        "  print(shows.title()+ ', is my favorite show!')"
      ],
      "metadata": {
        "colab": {
          "base_uri": "https://localhost:8080/"
        },
        "id": "HdTbIFLF8muM",
        "outputId": "ca2dc02b-ba97-456d-a29b-03ac563654ce"
      },
      "execution_count": 6,
      "outputs": [
        {
          "output_type": "stream",
          "name": "stdout",
          "text": [
            "Star Trek, is my favorite show!\n",
            "Game Of Thrones, is my favorite show!\n",
            "Stranger Things, is my favorite show!\n"
          ]
        }
      ]
    },
    {
      "cell_type": "code",
      "source": [
        "NEWshows = []"
      ],
      "metadata": {
        "id": "uNrN4_gz-8f0"
      },
      "execution_count": 11,
      "outputs": []
    },
    {
      "cell_type": "code",
      "source": [
        "NEWshows.append('Life')"
      ],
      "metadata": {
        "id": "TudDVq6hArJA"
      },
      "execution_count": 30,
      "outputs": []
    },
    {
      "cell_type": "code",
      "source": [
        "NEWshows"
      ],
      "metadata": {
        "colab": {
          "base_uri": "https://localhost:8080/"
        },
        "id": "BOHuOiQQASig",
        "outputId": "194ed3c7-8359-4580-f46a-77bb206bde01"
      },
      "execution_count": 31,
      "outputs": [
        {
          "output_type": "execute_result",
          "data": {
            "text/plain": [
              "['Golden Girls',\n",
              " 'The Simpsons',\n",
              " 'Love Boat',\n",
              " 'Lone Ranger',\n",
              " 'Murdock',\n",
              " 'Twightlight Zone',\n",
              " 'Jeopardy',\n",
              " 'Wheel of Fortune',\n",
              " 'Hollywood Squares',\n",
              " 'Life']"
            ]
          },
          "metadata": {},
          "execution_count": 31
        }
      ]
    },
    {
      "cell_type": "code",
      "source": [
        "for x in range(10):\n",
        "  print(x+2)"
      ],
      "metadata": {
        "colab": {
          "base_uri": "https://localhost:8080/"
        },
        "id": "m2uGTtPbCG5V",
        "outputId": "a63d1863-3703-475f-be83-06b6b1a92c2f"
      },
      "execution_count": 38,
      "outputs": [
        {
          "output_type": "stream",
          "name": "stdout",
          "text": [
            "2\n",
            "3\n",
            "4\n",
            "5\n",
            "6\n",
            "7\n",
            "8\n",
            "9\n",
            "10\n",
            "11\n"
          ]
        }
      ]
    },
    {
      "cell_type": "code",
      "source": [
        "list(range(1,20))"
      ],
      "metadata": {
        "colab": {
          "base_uri": "https://localhost:8080/"
        },
        "id": "ehCkV3bnCgmp",
        "outputId": "41a2034b-cba1-401c-d806-6f179d888aaa"
      },
      "execution_count": 39,
      "outputs": [
        {
          "output_type": "execute_result",
          "data": {
            "text/plain": [
              "[1, 2, 3, 4, 5, 6, 7, 8, 9, 10, 11, 12, 13, 14, 15, 16, 17, 18, 19]"
            ]
          },
          "metadata": {},
          "execution_count": 39
        }
      ]
    },
    {
      "cell_type": "code",
      "source": [
        "list(range(0,20,2))"
      ],
      "metadata": {
        "colab": {
          "base_uri": "https://localhost:8080/"
        },
        "id": "nlu6-2xUDTG9",
        "outputId": "d669e8d0-7eb0-47c4-ab7e-7dc076de59b7"
      },
      "execution_count": 44,
      "outputs": [
        {
          "output_type": "execute_result",
          "data": {
            "text/plain": [
              "[0, 2, 4, 6, 8, 10, 12, 14, 16, 18]"
            ]
          },
          "metadata": {},
          "execution_count": 44
        }
      ]
    },
    {
      "cell_type": "code",
      "source": [
        "numbers = list(range(3,15,2))\n",
        "print(numbers)"
      ],
      "metadata": {
        "colab": {
          "base_uri": "https://localhost:8080/"
        },
        "id": "rYLwmc_JDXT-",
        "outputId": "d49eef98-8ac4-41f2-bd97-807066079ed5"
      },
      "execution_count": 51,
      "outputs": [
        {
          "output_type": "stream",
          "name": "stdout",
          "text": [
            "[3, 5, 7, 9, 11, 13]\n"
          ]
        }
      ]
    },
    {
      "cell_type": "code",
      "source": [
        "min(numbers)"
      ],
      "metadata": {
        "colab": {
          "base_uri": "https://localhost:8080/"
        },
        "id": "buRhXUBWD4U9",
        "outputId": "e82653f0-6f77-45b6-ccc8-4659b46febaa"
      },
      "execution_count": 52,
      "outputs": [
        {
          "output_type": "execute_result",
          "data": {
            "text/plain": [
              "3"
            ]
          },
          "metadata": {},
          "execution_count": 52
        }
      ]
    },
    {
      "cell_type": "code",
      "source": [
        "sum(numbers)"
      ],
      "metadata": {
        "colab": {
          "base_uri": "https://localhost:8080/"
        },
        "id": "m2qw5vY4EHBw",
        "outputId": "85a5e43b-4006-4db9-8999-0285ff7113a3"
      },
      "execution_count": 53,
      "outputs": [
        {
          "output_type": "execute_result",
          "data": {
            "text/plain": [
              "48"
            ]
          },
          "metadata": {},
          "execution_count": 53
        }
      ]
    },
    {
      "cell_type": "code",
      "source": [
        "max(numbers)"
      ],
      "metadata": {
        "colab": {
          "base_uri": "https://localhost:8080/"
        },
        "id": "e3JxHsveEJhv",
        "outputId": "a950ea7b-140d-4766-c3d2-a8da9d4e0e07"
      },
      "execution_count": 54,
      "outputs": [
        {
          "output_type": "execute_result",
          "data": {
            "text/plain": [
              "13"
            ]
          },
          "metadata": {},
          "execution_count": 54
        }
      ]
    },
    {
      "cell_type": "code",
      "source": [
        "rand = [3,4,9,10,11,12,13,22,23]"
      ],
      "metadata": {
        "id": "_uoEWt2JEL8Y"
      },
      "execution_count": 56,
      "outputs": []
    },
    {
      "cell_type": "code",
      "source": [
        "for numbers in rand:\n",
        "  print(numbers)"
      ],
      "metadata": {
        "colab": {
          "base_uri": "https://localhost:8080/"
        },
        "id": "9VIkUzm3E4qH",
        "outputId": "1ee3f357-9ed8-4e27-b3fb-d0f840da2ef8"
      },
      "execution_count": 57,
      "outputs": [
        {
          "output_type": "stream",
          "name": "stdout",
          "text": [
            "3\n",
            "4\n",
            "9\n",
            "10\n",
            "11\n",
            "12\n",
            "13\n",
            "22\n",
            "23\n"
          ]
        }
      ]
    },
    {
      "cell_type": "code",
      "source": [
        "25%3"
      ],
      "metadata": {
        "colab": {
          "base_uri": "https://localhost:8080/"
        },
        "id": "rqZ4oaNaFGzu",
        "outputId": "4d328d42-d28d-4177-88e2-bfa3643352c6"
      },
      "execution_count": 58,
      "outputs": [
        {
          "output_type": "execute_result",
          "data": {
            "text/plain": [
              "1"
            ]
          },
          "metadata": {},
          "execution_count": 58
        }
      ]
    },
    {
      "cell_type": "code",
      "source": [
        "for x in rand:\n",
        "  if x % 2 == 0:\n",
        "    print(x)\n",
        "  else:\n",
        "    print(x, 'This is not an even number')"
      ],
      "metadata": {
        "colab": {
          "base_uri": "https://localhost:8080/"
        },
        "id": "Y4gv6aaGFVXN",
        "outputId": "b75f1ab2-8513-4e6e-a2ca-d71f75ef5d5c"
      },
      "execution_count": 59,
      "outputs": [
        {
          "output_type": "stream",
          "name": "stdout",
          "text": [
            "3 This is not an even number\n",
            "4\n",
            "9 This is not an even number\n",
            "10\n",
            "11 This is not an even number\n",
            "12\n",
            "13 This is not an even number\n",
            "22\n",
            "23 This is not an even number\n"
          ]
        }
      ]
    },
    {
      "cell_type": "code",
      "source": [
        ""
      ],
      "metadata": {
        "id": "bSjgoP2VFmMv"
      },
      "execution_count": null,
      "outputs": []
    }
  ]
}