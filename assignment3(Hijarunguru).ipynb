{
  "nbformat": 4,
  "nbformat_minor": 0,
  "metadata": {
    "colab": {
      "name": "assignment3(Hijarunguru).ipynb",
      "provenance": [],
      "collapsed_sections": [],
      "authorship_tag": "ABX9TyN6+UDRR0LSVrTZOL7Bda3o",
      "include_colab_link": true
    },
    "kernelspec": {
      "name": "python3",
      "display_name": "Python 3"
    },
    "language_info": {
      "name": "python"
    }
  },
  "cells": [
    {
      "cell_type": "markdown",
      "metadata": {
        "id": "view-in-github",
        "colab_type": "text"
      },
      "source": [
        "<a href=\"https://colab.research.google.com/github/NguruNomad/Micro-credential-wint-22/blob/main/assignment3(Hijarunguru).ipynb\" target=\"_parent\"><img src=\"https://colab.research.google.com/assets/colab-badge.svg\" alt=\"Open In Colab\"/></a>"
      ]
    },
    {
      "cell_type": "markdown",
      "source": [
        "# Lesson 4-Looping"
      ],
      "metadata": {
        "id": "UOjGVzYOZGOv"
      }
    },
    {
      "cell_type": "code",
      "source": [
        "#1. Create a list that holds 5 data variables.\n",
        "brand = ['nike', 'adidas', 'puma', 'under armour', 'asics']"
      ],
      "metadata": {
        "id": "SSMMeNO6aLPt"
      },
      "execution_count": 5,
      "outputs": []
    },
    {
      "cell_type": "code",
      "source": [
        "#2. Print out those variables by using a for loop.\n",
        "brand = ['nike', 'adidas', 'puma', 'under armour', 'asics']\n",
        "for x in brand:\n",
        "  print(x)"
      ],
      "metadata": {
        "colab": {
          "base_uri": "https://localhost:8080/"
        },
        "id": "TgX7SHvBapQ3",
        "outputId": "b0b2be2e-6083-4d4a-f36a-58d0bca6e2af"
      },
      "execution_count": 4,
      "outputs": [
        {
          "output_type": "stream",
          "name": "stdout",
          "text": [
            "nike\n",
            "adidas\n",
            "puma\n",
            "under armour\n",
            "asics\n"
          ]
        }
      ]
    },
    {
      "cell_type": "code",
      "source": [
        "#3. Modify your for loop to add a message to your for loop.\n",
        "brand = ['nike', 'adidas', 'puma', 'under armour', 'asics']\n",
        "for x in brand:\n",
        "  print('We sell ' + x)"
      ],
      "metadata": {
        "colab": {
          "base_uri": "https://localhost:8080/"
        },
        "id": "V9OeWWFzbHoK",
        "outputId": "49001629-69d0-46df-8d39-b5a2b89aa0d9"
      },
      "execution_count": 19,
      "outputs": [
        {
          "output_type": "stream",
          "name": "stdout",
          "text": [
            "We sell nike\n",
            "We sell adidas\n",
            "We sell puma\n",
            "We sell under armour\n",
            "We sell asics\n"
          ]
        }
      ]
    },
    {
      "cell_type": "code",
      "source": [
        "#4. Use a for loop to print even numbers from 1-20.\n",
        "num = list(range(1, 21))\n",
        "for x in num:\n",
        "  if x % 2 == 0:\n",
        "    print(x)"
      ],
      "metadata": {
        "colab": {
          "base_uri": "https://localhost:8080/"
        },
        "id": "bzfo8Prjbz48",
        "outputId": "f1eb2b4c-2eaf-4cb6-b361-99cca5984450"
      },
      "execution_count": 18,
      "outputs": [
        {
          "output_type": "stream",
          "name": "stdout",
          "text": [
            "2\n",
            "4\n",
            "6\n",
            "8\n",
            "10\n",
            "12\n",
            "14\n",
            "16\n",
            "18\n",
            "20\n"
          ]
        }
      ]
    },
    {
      "cell_type": "code",
      "source": [
        "#5. Sort your list in alphabetic order.\n",
        "brand = ['nike', 'adidas', 'puma', 'under armour', 'asics']\n",
        "sorted(brand)"
      ],
      "metadata": {
        "colab": {
          "base_uri": "https://localhost:8080/"
        },
        "id": "lHlPWxb6csS3",
        "outputId": "721ea297-b797-4643-f2d4-f75197eac6e0"
      },
      "execution_count": 23,
      "outputs": [
        {
          "output_type": "execute_result",
          "data": {
            "text/plain": [
              "['adidas', 'asics', 'nike', 'puma', 'under armour']"
            ]
          },
          "metadata": {},
          "execution_count": 23
        }
      ]
    },
    {
      "cell_type": "code",
      "source": [
        "#6. Print out the first three elements of your list.\n",
        "brand = ['nike', 'adidas', 'puma', 'under armour', 'asics']\n",
        "print(brand[:3])"
      ],
      "metadata": {
        "colab": {
          "base_uri": "https://localhost:8080/"
        },
        "id": "3_FJGzL3eDCb",
        "outputId": "6261c266-687e-4e9a-c932-ffe3cb8fd341"
      },
      "execution_count": 26,
      "outputs": [
        {
          "output_type": "stream",
          "name": "stdout",
          "text": [
            "['nike', 'adidas', 'puma']\n"
          ]
        }
      ]
    },
    {
      "cell_type": "code",
      "source": [
        "#7. Create a loop to print the last 2 elements of your list.\n",
        "brand = ['nike', 'adidas', 'puma', 'under armour', 'asics']\n",
        "while brand = ['under armour', 'asics']:\n",
        "  print(brand)"
      ],
      "metadata": {
        "id": "TW_HyOjee3zC"
      },
      "execution_count": 30,
      "outputs": []
    },
    {
      "cell_type": "markdown",
      "source": [
        "#Lesson: Unit 2 – Python Dictionaries"
      ],
      "metadata": {
        "id": "in6xm_wFfnM3"
      }
    },
    {
      "cell_type": "code",
      "source": [
        "#1. Create a simple dictionary that stores 2 variables, for example: first and last name.\n",
        "person = {'name' : 'May', 'surname' : 'Pernel'}"
      ],
      "metadata": {
        "id": "MbtNK1LlftLh"
      },
      "execution_count": null,
      "outputs": []
    },
    {
      "cell_type": "code",
      "source": [
        "#2. Print out those variables stored in your previous dictionary.\n",
        "person = {'name' : 'May', 'surname' : 'Pernel'}\n",
        "print(person['name'])\n",
        "print(person['surname'])"
      ],
      "metadata": {
        "colab": {
          "base_uri": "https://localhost:8080/"
        },
        "id": "I5V0Hv5ufzwj",
        "outputId": "23c556e7-433e-47ad-b56e-88c7bb7b3dc1"
      },
      "execution_count": 36,
      "outputs": [
        {
          "output_type": "stream",
          "name": "stdout",
          "text": [
            "May\n",
            "Pernel\n"
          ]
        }
      ]
    },
    {
      "cell_type": "code",
      "source": [
        "#3. Add a message to those variables on printing: for example: “Hello, firstname lastname!”\n",
        "person = {'name' : 'May', 'surname' : 'Pernel'}\n",
        "called = person['name'] + ' ' + person['surname']\n",
        "print('Her name is ' + called)"
      ],
      "metadata": {
        "colab": {
          "base_uri": "https://localhost:8080/"
        },
        "id": "WRPpcSmzf3VD",
        "outputId": "d853fc0f-9ded-40d2-95a1-fbc72d073dde"
      },
      "execution_count": 39,
      "outputs": [
        {
          "output_type": "stream",
          "name": "stdout",
          "text": [
            "Her name is May Pernel\n"
          ]
        }
      ]
    },
    {
      "cell_type": "code",
      "source": [
        "#4. Create a dictionary that holds 2 key: value pairs:\n",
        "coins = {'quaters' : 'four', 'nickels' : 'twenty'}\n",
        "#a. Look through your dictionary and print each pair,\n",
        "coins = {'quaters' : 'four', 'nickels' : 'twenty'}\n",
        "print(coins.items())"
      ],
      "metadata": {
        "colab": {
          "base_uri": "https://localhost:8080/"
        },
        "id": "JIDt9uB4f7N-",
        "outputId": "cc2b0d38-3b5b-4def-c46c-16f917e349ee"
      },
      "execution_count": 45,
      "outputs": [
        {
          "output_type": "stream",
          "name": "stdout",
          "text": [
            "dict_items([('quaters', 'four'), ('nickels', 'twenty')])\n"
          ]
        }
      ]
    },
    {
      "cell_type": "code",
      "source": [
        "#5. Create a nested dictionary containing three dictionaries – these dictionaries could be anything (favorite pets, travel locations, etc.)\n",
        "matter = {'compounds' : {'elements' : {'atoms' : 'subatomic'}}}\n",
        "#a. Loop through the dictionaries and print a message for each.\n",
        "matter = {'compounds' : {'elements' : {'atoms' : 'subatomic'}}}\n",
        "for x in matter.items():\n",
        "   print('Made up of more than one element ' + matter('compound'))\n",
        "   print('Purest grouping of like atoms ' + matter('element'))\n",
        "   print('Made of subatomic particles ' + matter('atoms'))\n",
        "   print('Smallest recorded building blocks of matter ' + matter('subatomic'))"
      ],
      "metadata": {
        "colab": {
          "base_uri": "https://localhost:8080/",
          "height": 232
        },
        "id": "g1Qd3iZpgCmS",
        "outputId": "0b8e68b0-9ddc-42ab-8359-ea978b53f1a6"
      },
      "execution_count": 52,
      "outputs": [
        {
          "output_type": "error",
          "ename": "TypeError",
          "evalue": "ignored",
          "traceback": [
            "\u001b[0;31m---------------------------------------------------------------------------\u001b[0m",
            "\u001b[0;31mTypeError\u001b[0m                                 Traceback (most recent call last)",
            "\u001b[0;32m<ipython-input-52-2969dad48fa0>\u001b[0m in \u001b[0;36m<module>\u001b[0;34m()\u001b[0m\n\u001b[1;32m      4\u001b[0m \u001b[0mmatter\u001b[0m \u001b[0;34m=\u001b[0m \u001b[0;34m{\u001b[0m\u001b[0;34m'compounds'\u001b[0m \u001b[0;34m:\u001b[0m \u001b[0;34m{\u001b[0m\u001b[0;34m'elements'\u001b[0m \u001b[0;34m:\u001b[0m \u001b[0;34m{\u001b[0m\u001b[0;34m'atoms'\u001b[0m \u001b[0;34m:\u001b[0m \u001b[0;34m'subatomic'\u001b[0m\u001b[0;34m}\u001b[0m\u001b[0;34m}\u001b[0m\u001b[0;34m}\u001b[0m\u001b[0;34m\u001b[0m\u001b[0;34m\u001b[0m\u001b[0m\n\u001b[1;32m      5\u001b[0m \u001b[0;32mfor\u001b[0m \u001b[0mx\u001b[0m \u001b[0;32min\u001b[0m \u001b[0mmatter\u001b[0m\u001b[0;34m.\u001b[0m\u001b[0mitems\u001b[0m\u001b[0;34m(\u001b[0m\u001b[0;34m)\u001b[0m\u001b[0;34m:\u001b[0m\u001b[0;34m\u001b[0m\u001b[0;34m\u001b[0m\u001b[0m\n\u001b[0;32m----> 6\u001b[0;31m    \u001b[0mprint\u001b[0m\u001b[0;34m(\u001b[0m\u001b[0;34m'Made up of more than one element '\u001b[0m \u001b[0;34m+\u001b[0m \u001b[0mmatter\u001b[0m\u001b[0;34m(\u001b[0m\u001b[0;34m'compound'\u001b[0m\u001b[0;34m)\u001b[0m\u001b[0;34m)\u001b[0m\u001b[0;34m\u001b[0m\u001b[0;34m\u001b[0m\u001b[0m\n\u001b[0m\u001b[1;32m      7\u001b[0m    \u001b[0mprint\u001b[0m\u001b[0;34m(\u001b[0m\u001b[0;34m'Purest grouping of like atoms '\u001b[0m \u001b[0;34m+\u001b[0m \u001b[0mmatter\u001b[0m\u001b[0;34m(\u001b[0m\u001b[0;34m'element'\u001b[0m\u001b[0;34m)\u001b[0m\u001b[0;34m)\u001b[0m\u001b[0;34m\u001b[0m\u001b[0;34m\u001b[0m\u001b[0m\n\u001b[1;32m      8\u001b[0m    \u001b[0mprint\u001b[0m\u001b[0;34m(\u001b[0m\u001b[0;34m'Made of subatomic particles '\u001b[0m \u001b[0;34m+\u001b[0m \u001b[0mmatter\u001b[0m\u001b[0;34m(\u001b[0m\u001b[0;34m'atoms'\u001b[0m\u001b[0;34m)\u001b[0m\u001b[0;34m)\u001b[0m\u001b[0;34m\u001b[0m\u001b[0;34m\u001b[0m\u001b[0m\n",
            "\u001b[0;31mTypeError\u001b[0m: 'dict' object is not callable"
          ]
        }
      ]
    },
    {
      "cell_type": "code",
      "source": [
        ""
      ],
      "metadata": {
        "id": "1hZQkQ46oWLF"
      },
      "execution_count": null,
      "outputs": []
    }
  ]
}