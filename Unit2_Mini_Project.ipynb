{
  "nbformat": 4,
  "nbformat_minor": 0,
  "metadata": {
    "colab": {
      "name": "Unit2-Mini Project.ipynb",
      "provenance": [],
      "collapsed_sections": [],
      "authorship_tag": "ABX9TyNISAgV+5U5ST63o3gK71ga",
      "include_colab_link": true
    },
    "kernelspec": {
      "name": "python3",
      "display_name": "Python 3"
    },
    "language_info": {
      "name": "python"
    }
  },
  "cells": [
    {
      "cell_type": "markdown",
      "metadata": {
        "id": "view-in-github",
        "colab_type": "text"
      },
      "source": [
        "<a href=\"https://colab.research.google.com/github/NguruNomad/Micro-credential-wint-22/blob/main/Unit2_Mini_Project.ipynb\" target=\"_parent\"><img src=\"https://colab.research.google.com/assets/colab-badge.svg\" alt=\"Open In Colab\"/></a>"
      ]
    },
    {
      "cell_type": "code",
      "source": [
        "'''\n",
        "Author: N.H.\n",
        "Output: To find out if a whole number is even or odd.\n",
        "'''\n",
        "num1 = int(input())\n",
        "if (num1 % 2) == 0:\n",
        "   print(f'{num1} is even.')\n",
        "else:\n",
        "   print(f'{num1} is odd.')\n",
        "#Bonus: An additional message appears for multiples of 4.\n",
        "if (num1 % 4) == 0:\n",
        "  print(f'This is a multiple of 4.')\n",
        "#I created a new function titled 'div.' It will check to see if two new inputs are divisible.\n",
        "def div(num2, check):\n",
        "  return num2/check\n",
        "\n",
        "num2 = int(input())\n",
        "check = int(input())\n",
        "\n",
        "if (num2 % check) == 0:\n",
        "  print(f'{check} divides evenly in {num2}.')\n",
        "else:\n",
        "  print(f'{check} does not divide evenly in {num2}.')\n",
        "print(num2/check)\n",
        "#After printing quotient, the final message says whether it is odd or even.\n",
        "quotient = (num2//check)\n",
        "if (quotient % 2) == 0:\n",
        "   print(f'{quotient} is even.')\n",
        "else:\n",
        "   print(f'{quotient} is odd.')\n"
      ],
      "metadata": {
        "colab": {
          "base_uri": "https://localhost:8080/"
        },
        "id": "UBhJfqISvQvi",
        "outputId": "148d0d90-c808-401c-fa24-ad43bb80ed9e"
      },
      "execution_count": 47,
      "outputs": [
        {
          "output_type": "stream",
          "name": "stdout",
          "text": [
            "-5\n",
            "-5 is odd.\n",
            "3\n",
            "77\n",
            "77 does not divide evenly in 3.\n",
            "0.03896103896103896\n",
            "0 is even.\n"
          ]
        }
      ]
    },
    {
      "cell_type": "code",
      "source": [
        ""
      ],
      "metadata": {
        "id": "t0hOJUkt-dhi"
      },
      "execution_count": null,
      "outputs": []
    }
  ]
}