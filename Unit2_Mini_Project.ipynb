{
  "nbformat": 4,
  "nbformat_minor": 0,
  "metadata": {
    "colab": {
      "name": "Unit2-Mini Project.ipynb",
      "provenance": [],
      "collapsed_sections": [],
      "authorship_tag": "ABX9TyNVKqk4ciL66d3JxOzzBWlj",
      "include_colab_link": true
    },
    "kernelspec": {
      "name": "python3",
      "display_name": "Python 3"
    },
    "language_info": {
      "name": "python"
    }
  },
  "cells": [
    {
      "cell_type": "markdown",
      "metadata": {
        "id": "view-in-github",
        "colab_type": "text"
      },
      "source": [
        "<a href=\"https://colab.research.google.com/github/NguruNomad/Micro-credential-wint-22/blob/main/Unit2_Mini_Project.ipynb\" target=\"_parent\"><img src=\"https://colab.research.google.com/assets/colab-badge.svg\" alt=\"Open In Colab\"/></a>"
      ]
    },
    {
      "cell_type": "markdown",
      "source": [
        "#Even or Odd numbers"
      ],
      "metadata": {
        "id": "fxqGSIyz-2Aq"
      }
    },
    {
      "cell_type": "code",
      "source": [
        "'''\n",
        "Author: N.H.\n",
        "Output: To find out if a whole number is even or odd.\n",
        "'''\n",
        "num1 = int(input())\n",
        "if (num1 % 2) == 0:\n",
        "   print(f'{num1} is even.')\n",
        "else:\n",
        "   print(f'{num1} is odd.')\n",
        "#Bonus: An additional message appears for multiples of 4.\n",
        "if (num1 % 4) == 0:\n",
        "  print(f'This is a multiple of 4.')\n",
        "#I created a new function titled 'div.' It will check to see if two new inputs are divisible.\n",
        "def div(num2, check):\n",
        "  return num2/check\n",
        "\n",
        "num2 = int(input())\n",
        "check = int(input())\n",
        "\n",
        "if (num2 % check) == 0:\n",
        "  print(f'{check} divides evenly in {num2}.')\n",
        "else:\n",
        "  print(f'{check} does not divide evenly in {num2}.')\n",
        "print(num2/check)\n",
        "#After printing the quotient, a final message says whether it is odd or even.\n",
        "quotient = (num2//check)\n",
        "if (quotient % 2) == 0:\n",
        "   print(f'{quotient} is even.')\n",
        "else:\n",
        "   print(f'{quotient} is odd.')\n"
      ],
      "metadata": {
        "colab": {
          "base_uri": "https://localhost:8080/"
        },
        "id": "UBhJfqISvQvi",
        "outputId": "7f7776e3-ac85-45a5-93ce-bc2c96fdee3b"
      },
      "execution_count": 54,
      "outputs": [
        {
          "output_type": "stream",
          "name": "stdout",
          "text": [
            "100\n",
            "100 is even.\n",
            "This is a multiple of 4.\n",
            "100\n",
            "25\n",
            "25 divides evenly in 100.\n",
            "4.0\n",
            "4 is even.\n"
          ]
        }
      ]
    },
    {
      "cell_type": "code",
      "source": [
        ""
      ],
      "metadata": {
        "id": "HWFy7RnL_Ii4"
      },
      "execution_count": 54,
      "outputs": []
    }
  ]
}